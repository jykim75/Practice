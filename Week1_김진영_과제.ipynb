{
 "cells": [
  {
   "cell_type": "markdown",
   "metadata": {},
   "source": [
    "# Q1\n",
    "실제 은행이 고객을 accept하지 않았는데, accept했다고 모델이 예측하는 경우를 FP라고 하며, 이 확률이 Type 2 error가 된다.\n",
    "한편, 은행이 고객을 accept하였는데, accept하지 않았다고 모델이 예측하는 경우를 FN이라고 하며, 이 확률이 Type 1 error가 된다.\n",
    "threshold를 0.3으로 지정하면 FP의 확률이 높고, FN의 확률이 낮게 되므로\n",
    "Type 2 error가 높고, Type 1 error는 낮다."
   ]
  },
  {
   "cell_type": "markdown",
   "metadata": {},
   "source": [
    "# Q2"
   ]
  },
  {
   "cell_type": "markdown",
   "metadata": {},
   "source": [
    "## Q2-1\n",
    "\n",
    "- Precision(정밀도) = TP/(TP+FP) \n",
    "=> 모델이 True라고 분류한 것 중 실제 True인 것의 비율, 정답률, PPV\n",
    "\n",
    "- Recall(재현율) = TP/(TP+FN)\n",
    "=> 실제 True인 것 중에서 모델이 True라고 예측한 것의 비율, sensitivity, hit rate\n",
    "\n",
    "- Accuracy(정확도) = TP+TN/(TP+FN+FP+FN)"
   ]
  },
  {
   "cell_type": "markdown",
   "metadata": {},
   "source": [
    "## Q2-2\n",
    "예시) 거짓말탐지기\n",
    "- threshold 높이면 거짓말이 아닌 경우에 거짓말이라고 예측하는 FP가 낮아질 것\n",
    "- 100명의 죄인을 잡는 것보다 한 명의 무고한 희생자를 막는 것이 더 중요하다고 판단한다면 threshold를 높이는 것이 합리적일 것"
   ]
  },
  {
   "cell_type": "markdown",
   "metadata": {},
   "source": [
    "# Q3"
   ]
  },
  {
   "cell_type": "code",
   "execution_count": 1,
   "metadata": {},
   "outputs": [],
   "source": [
    "import torch\n",
    "import torch.nn as nn\n",
    "import torchvision.datasets as dsets # MNIST dataset 有\n",
    "import torchvision.transforms as transforms\n",
    "from torch.autograd import Variable"
   ]
  },
  {
   "cell_type": "code",
   "execution_count": 2,
   "metadata": {},
   "outputs": [],
   "source": [
    "# MNIST Dataset (Images and Labels) \n",
    "train_dataset = dsets.MNIST(root ='./data',  \n",
    "                            train = True,  \n",
    "                            transform = transforms.ToTensor(), \n",
    "                            download = True) \n",
    "  \n",
    "test_dataset = dsets.MNIST(root ='./data',  \n",
    "                           train = False,  \n",
    "                           transform = transforms.ToTensor()) \n",
    "\n",
    "# Hyper Parameters  \n",
    "input_size = 784 # 28*28\n",
    "num_classes = 10 # 0~9\n",
    "num_epochs = 5\n",
    "batch_size = 100\n",
    "learning_rate = 0.001\n",
    "\n",
    "# Dataset Loader (Input Pipline) \n",
    "train_loader = torch.utils.data.DataLoader(dataset = train_dataset,  \n",
    "                                           batch_size = batch_size,  \n",
    "                                           shuffle = True) \n",
    "  \n",
    "test_loader = torch.utils.data.DataLoader(dataset = test_dataset,  \n",
    "                                          batch_size = batch_size,  \n",
    "                                          shuffle = False) "
   ]
  },
  {
   "cell_type": "code",
   "execution_count": 3,
   "metadata": {},
   "outputs": [],
   "source": [
    "class LogisticRegression(nn.Module): \n",
    "    def __init__(self, input_size, num_classes): \n",
    "        super(LogisticRegression, self).__init__() \n",
    "        self.linear = nn.Linear(input_size, num_classes) \n",
    "  \n",
    "    def forward(self, x): \n",
    "        out = self.linear(x) \n",
    "        return out "
   ]
  },
  {
   "cell_type": "code",
   "execution_count": 4,
   "metadata": {},
   "outputs": [],
   "source": [
    "# 모델 정의 (logistic regression)\n",
    "model = LogisticRegression(input_size, num_classes) "
   ]
  },
  {
   "cell_type": "code",
   "execution_count": 5,
   "metadata": {},
   "outputs": [],
   "source": [
    "criterion = nn.CrossEntropyLoss() # loss function 정의\n",
    "optimizer = torch.optim.SGD(model.parameters(), lr = learning_rate) # optimizer"
   ]
  },
  {
   "cell_type": "code",
   "execution_count": 6,
   "metadata": {
    "scrolled": true
   },
   "outputs": [
    {
     "name": "stdout",
     "output_type": "stream",
     "text": [
      "Epoch: [ 1/ 5], Step: [ 100/ 600], Loss: 2.2262\n",
      "Epoch: [ 1/ 5], Step: [ 200/ 600], Loss: 2.1327\n",
      "Epoch: [ 1/ 5], Step: [ 300/ 600], Loss: 2.0013\n",
      "Epoch: [ 1/ 5], Step: [ 400/ 600], Loss: 1.9808\n",
      "Epoch: [ 1/ 5], Step: [ 500/ 600], Loss: 1.8718\n",
      "Epoch: [ 1/ 5], Step: [ 600/ 600], Loss: 1.7979\n",
      "Epoch: [ 2/ 5], Step: [ 100/ 600], Loss: 1.6759\n",
      "Epoch: [ 2/ 5], Step: [ 200/ 600], Loss: 1.6922\n",
      "Epoch: [ 2/ 5], Step: [ 300/ 600], Loss: 1.6339\n",
      "Epoch: [ 2/ 5], Step: [ 400/ 600], Loss: 1.5618\n",
      "Epoch: [ 2/ 5], Step: [ 500/ 600], Loss: 1.6027\n",
      "Epoch: [ 2/ 5], Step: [ 600/ 600], Loss: 1.4629\n",
      "Epoch: [ 3/ 5], Step: [ 100/ 600], Loss: 1.4148\n",
      "Epoch: [ 3/ 5], Step: [ 200/ 600], Loss: 1.4236\n",
      "Epoch: [ 3/ 5], Step: [ 300/ 600], Loss: 1.3738\n",
      "Epoch: [ 3/ 5], Step: [ 400/ 600], Loss: 1.3134\n",
      "Epoch: [ 3/ 5], Step: [ 500/ 600], Loss: 1.3618\n",
      "Epoch: [ 3/ 5], Step: [ 600/ 600], Loss: 1.2960\n",
      "Epoch: [ 4/ 5], Step: [ 100/ 600], Loss: 1.3180\n",
      "Epoch: [ 4/ 5], Step: [ 200/ 600], Loss: 1.1899\n",
      "Epoch: [ 4/ 5], Step: [ 300/ 600], Loss: 1.1973\n",
      "Epoch: [ 4/ 5], Step: [ 400/ 600], Loss: 1.1522\n",
      "Epoch: [ 4/ 5], Step: [ 500/ 600], Loss: 1.1568\n",
      "Epoch: [ 4/ 5], Step: [ 600/ 600], Loss: 1.0917\n",
      "Epoch: [ 5/ 5], Step: [ 100/ 600], Loss: 1.0839\n",
      "Epoch: [ 5/ 5], Step: [ 200/ 600], Loss: 1.0496\n",
      "Epoch: [ 5/ 5], Step: [ 300/ 600], Loss: 1.0527\n",
      "Epoch: [ 5/ 5], Step: [ 400/ 600], Loss: 0.9501\n",
      "Epoch: [ 5/ 5], Step: [ 500/ 600], Loss: 1.0017\n",
      "Epoch: [ 5/ 5], Step: [ 600/ 600], Loss: 1.0195\n"
     ]
    }
   ],
   "source": [
    "# Training the Model \n",
    "for epoch in range(num_epochs): \n",
    "    for i, (images, labels) in enumerate(train_loader): \n",
    "        images = Variable(images.view(-1, 28 * 28)) \n",
    "        labels = Variable(labels) \n",
    "  \n",
    "        # Forward + Backward + Optimize \n",
    "        optimizer.zero_grad() # gradient 0으로 초기화\n",
    "        outputs = model(images) \n",
    "        loss = criterion(outputs, labels) # loss\n",
    "        loss.backward() # backward\n",
    "        optimizer.step() # w 업데이트\n",
    "  \n",
    "        if (i + 1) % 100 == 0: \n",
    "            print('Epoch: [% d/% d], Step: [% d/% d], Loss: %.4f'\n",
    "                  % (epoch + 1, num_epochs, i + 1, \n",
    "                     len(train_dataset) // batch_size, loss.data)) "
   ]
  },
  {
   "cell_type": "code",
   "execution_count": 7,
   "metadata": {},
   "outputs": [
    {
     "name": "stdout",
     "output_type": "stream",
     "text": [
      "Accuracy of the model on the 10000 test images:  82 %\n"
     ]
    }
   ],
   "source": [
    "# Test the Model \n",
    "correct = 0\n",
    "total = 0\n",
    "for images, labels in test_loader: \n",
    "    images = Variable(images.view(-1, 28 * 28)) \n",
    "    outputs = model(images) \n",
    "    _, predicted = torch.max(outputs.data, 1) \n",
    "    total += labels.size(0) \n",
    "    correct += (predicted == labels).sum() \n",
    "  \n",
    "print('Accuracy of the model on the 10000 test images: % d %%' % ( \n",
    "            100 * correct // total))"
   ]
  },
  {
   "cell_type": "markdown",
   "metadata": {},
   "source": [
    "\n",
    "# Q4"
   ]
  },
  {
   "cell_type": "markdown",
   "metadata": {},
   "source": [
    "## Q4-1"
   ]
  },
  {
   "cell_type": "code",
   "execution_count": 8,
   "metadata": {},
   "outputs": [],
   "source": [
    "def SGD(f, theta0, alpha, num_iters): \n",
    "    \"\"\"  \n",
    "       Arguments: \n",
    "       f -- the function to optimize, it takes a single argument \n",
    "            and yield two outputs, a cost and the gradient \n",
    "            with respect to the arguments \n",
    "       theta0 -- the initial point to start SGD from \n",
    "       num_iters -- total iterations to run SGD for \n",
    "       Return: \n",
    "       theta -- the parameter value after SGD finishes \n",
    "    \"\"\"\n",
    "    start_iter = 0\n",
    "    theta = theta0 \n",
    "    for iter in xrange(start_iter + 1, num_iters + 1): \n",
    "        _, grad = f(theta) \n",
    "   \n",
    "        # there is NO dot product ! return theta \n",
    "        theta = theta - (alpha * grad)  "
   ]
  },
  {
   "cell_type": "markdown",
   "metadata": {},
   "source": [
    "## Q4-2"
   ]
  },
  {
   "cell_type": "code",
   "execution_count": 9,
   "metadata": {},
   "outputs": [],
   "source": [
    "import torch\n",
    "import torch.nn as nn\n",
    "import torch.nn.functional as F\n",
    "import torch.optim as optim"
   ]
  },
  {
   "cell_type": "markdown",
   "metadata": {},
   "source": [
    "## Adam"
   ]
  },
  {
   "cell_type": "code",
   "execution_count": 10,
   "metadata": {},
   "outputs": [
    {
     "name": "stdout",
     "output_type": "stream",
     "text": [
      "Epoch    0/1000 W: 0.957, b: -0.034 Cost: 0.024429\n",
      "Epoch  100/1000 W: 1.000, b: 0.000 Cost: 0.000000\n",
      "Epoch  200/1000 W: 1.000, b: 0.000 Cost: 0.000000\n",
      "Epoch  300/1000 W: 1.000, b: 0.000 Cost: 0.000000\n",
      "Epoch  400/1000 W: 1.000, b: 0.000 Cost: 0.000000\n",
      "Epoch  500/1000 W: 1.000, b: 0.000 Cost: 0.000000\n",
      "Epoch  600/1000 W: 1.000, b: 0.000 Cost: 0.000000\n",
      "Epoch  700/1000 W: 1.000, b: 0.000 Cost: 0.000000\n",
      "Epoch  800/1000 W: 1.000, b: 0.000 Cost: 0.000000\n",
      "Epoch  900/1000 W: 1.000, b: 0.000 Cost: 0.000000\n",
      "Epoch 1000/1000 W: 1.000, b: 0.000 Cost: 0.000000\n"
     ]
    }
   ],
   "source": [
    "# 데이터\n",
    "x_train = torch.FloatTensor([[1], [2], [3]])\n",
    "y_train = torch.FloatTensor([[1], [2], [3]])\n",
    "\n",
    "class LinearRegressionModel(nn.Module):\n",
    "    def __init__(self):\n",
    "        super().__init__()\n",
    "        self.linear = nn.Linear(1, 1)\n",
    "\n",
    "    def forward(self, x):\n",
    "        return self.linear(x)\n",
    "    \n",
    "# 모델 초기화\n",
    "model = LinearRegressionModel()\n",
    "\n",
    "# optimizer 설정 (Adam)\n",
    "optimizer = optim.Adam(model.parameters(), lr=0.01)\n",
    "\n",
    "nb_epochs = 1000\n",
    "for epoch in range(nb_epochs + 1):\n",
    "    \n",
    "    # H(x) 계산\n",
    "    prediction = model(x_train)\n",
    "    \n",
    "    # cost 계산\n",
    "    cost = F.mse_loss(prediction, y_train)\n",
    "    \n",
    "    # cost로 H(x) 개선\n",
    "    optimizer.zero_grad() # 미분값이 \n",
    "    cost.backward()\n",
    "    optimizer.step()\n",
    "    \n",
    "    # 100번마다 로그 출력\n",
    "    if epoch % 100 == 0:\n",
    "        params = list(model.parameters())\n",
    "        W = params[0].item()\n",
    "        b = params[1].item()\n",
    "        print('Epoch {:4d}/{} W: {:.3f}, b: {:.3f} Cost: {:.6f}'.format(\n",
    "            epoch, nb_epochs, W, b, cost.item()\n",
    "        ))"
   ]
  },
  {
   "cell_type": "markdown",
   "metadata": {},
   "source": [
    "## RMSprop"
   ]
  },
  {
   "cell_type": "code",
   "execution_count": 11,
   "metadata": {},
   "outputs": [
    {
     "name": "stdout",
     "output_type": "stream",
     "text": [
      "Epoch    0/1000 W: -0.509, b: 0.286 Cost: 10.915822\n",
      "Epoch  100/1000 W: 0.472, b: 1.114 Cost: 0.190032\n",
      "Epoch  200/1000 W: 0.584, b: 0.920 Cost: 0.123859\n",
      "Epoch  300/1000 W: 0.703, b: 0.658 Cost: 0.063537\n",
      "Epoch  400/1000 W: 0.827, b: 0.384 Cost: 0.021695\n",
      "Epoch  500/1000 W: 0.928, b: 0.160 Cost: 0.003819\n",
      "Epoch  600/1000 W: 0.983, b: 0.038 Cost: 0.000222\n",
      "Epoch  700/1000 W: 0.998, b: 0.004 Cost: 0.000002\n",
      "Epoch  800/1000 W: 1.000, b: 0.000 Cost: 0.000000\n",
      "Epoch  900/1000 W: 1.000, b: 0.000 Cost: 0.000000\n",
      "Epoch 1000/1000 W: 1.004, b: 0.004 Cost: 0.000205\n"
     ]
    }
   ],
   "source": [
    "# 데이터\n",
    "x_train = torch.FloatTensor([[1], [2], [3]])\n",
    "y_train = torch.FloatTensor([[1], [2], [3]])\n",
    "\n",
    "class LinearRegressionModel(nn.Module):\n",
    "    def __init__(self):\n",
    "        super().__init__()\n",
    "        self.linear = nn.Linear(1, 1)\n",
    "\n",
    "    def forward(self, x):\n",
    "        return self.linear(x)\n",
    "    \n",
    "# 모델 초기화\n",
    "model = LinearRegressionModel()\n",
    "\n",
    "# optimizer 설정 (RMSprop)\n",
    "optimizer = optim.RMSprop(model.parameters(), lr=0.01)\n",
    "\n",
    "nb_epochs = 1000\n",
    "for epoch in range(nb_epochs + 1):\n",
    "    \n",
    "    # H(x) 계산\n",
    "    prediction = model(x_train)\n",
    "    \n",
    "    # cost 계산\n",
    "    cost = F.mse_loss(prediction, y_train)\n",
    "    \n",
    "    # cost로 H(x) 개선\n",
    "    optimizer.zero_grad() # 미분값이 \n",
    "    cost.backward()\n",
    "    optimizer.step()\n",
    "    \n",
    "    # 100번마다 로그 출력\n",
    "    if epoch % 100 == 0:\n",
    "        params = list(model.parameters())\n",
    "        W = params[0].item()\n",
    "        b = params[1].item()\n",
    "        print('Epoch {:4d}/{} W: {:.3f}, b: {:.3f} Cost: {:.6f}'.format(\n",
    "            epoch, nb_epochs, W, b, cost.item()\n",
    "        ))"
   ]
  },
  {
   "cell_type": "markdown",
   "metadata": {},
   "source": [
    "## SGD with momentum=0.9"
   ]
  },
  {
   "cell_type": "code",
   "execution_count": 12,
   "metadata": {},
   "outputs": [
    {
     "name": "stdout",
     "output_type": "stream",
     "text": [
      "Epoch    0/1000 W: 0.717, b: -0.904 Cost: 2.782944\n",
      "Epoch  100/1000 W: 1.017, b: -0.031 Cost: 0.000212\n",
      "Epoch  200/1000 W: 1.000, b: -0.001 Cost: 0.000000\n",
      "Epoch  300/1000 W: 1.000, b: -0.000 Cost: 0.000000\n",
      "Epoch  400/1000 W: 1.000, b: -0.000 Cost: 0.000000\n",
      "Epoch  500/1000 W: 1.000, b: -0.000 Cost: 0.000000\n",
      "Epoch  600/1000 W: 1.000, b: -0.000 Cost: 0.000000\n",
      "Epoch  700/1000 W: 1.000, b: -0.000 Cost: 0.000000\n",
      "Epoch  800/1000 W: 1.000, b: -0.000 Cost: 0.000000\n",
      "Epoch  900/1000 W: 1.000, b: -0.000 Cost: 0.000000\n",
      "Epoch 1000/1000 W: 1.000, b: -0.000 Cost: 0.000000\n"
     ]
    }
   ],
   "source": [
    "# 데이터\n",
    "x_train = torch.FloatTensor([[1], [2], [3]])\n",
    "y_train = torch.FloatTensor([[1], [2], [3]])\n",
    "\n",
    "class LinearRegressionModel(nn.Module):\n",
    "    def __init__(self):\n",
    "        super().__init__()\n",
    "        self.linear = nn.Linear(1, 1)\n",
    "\n",
    "    def forward(self, x):\n",
    "        return self.linear(x)\n",
    "    \n",
    "# 모델 초기화\n",
    "model = LinearRegressionModel()\n",
    "\n",
    "# optimizer 설정 (SGD with momentum)\n",
    "optimizer = optim.SGD(model.parameters(), lr=0.01, momentum=0.9)\n",
    "\n",
    "nb_epochs = 1000\n",
    "for epoch in range(nb_epochs + 1):\n",
    "    \n",
    "    # H(x) 계산\n",
    "    prediction = model(x_train)\n",
    "    \n",
    "    # cost 계산\n",
    "    cost = F.mse_loss(prediction, y_train)\n",
    "    \n",
    "    # cost로 H(x) 개선\n",
    "    optimizer.zero_grad() # 미분값이 \n",
    "    cost.backward()\n",
    "    optimizer.step()\n",
    "    \n",
    "    # 100번마다 로그 출력\n",
    "    if epoch % 100 == 0:\n",
    "        params = list(model.parameters())\n",
    "        W = params[0].item()\n",
    "        b = params[1].item()\n",
    "        print('Epoch {:4d}/{} W: {:.3f}, b: {:.3f} Cost: {:.6f}'.format(\n",
    "            epoch, nb_epochs, W, b, cost.item()\n",
    "        ))"
   ]
  }
 ],
 "metadata": {
  "kernelspec": {
   "display_name": "Python 3",
   "language": "python",
   "name": "python3"
  },
  "language_info": {
   "codemirror_mode": {
    "name": "ipython",
    "version": 3
   },
   "file_extension": ".py",
   "mimetype": "text/x-python",
   "name": "python",
   "nbconvert_exporter": "python",
   "pygments_lexer": "ipython3",
   "version": "3.6.10"
  }
 },
 "nbformat": 4,
 "nbformat_minor": 4
}
